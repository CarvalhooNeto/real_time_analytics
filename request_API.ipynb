{
 "cells": [
  {
   "cell_type": "code",
   "execution_count": 1,
   "id": "4a9c8d1c-94df-4c90-a18b-62e7a0066192",
   "metadata": {},
   "outputs": [],
   "source": [
    "import json\n",
    "import requests"
   ]
  },
  {
   "cell_type": "code",
   "execution_count": 2,
   "id": "65038dbc-9f2c-4152-9d8c-cce69fdf51b5",
   "metadata": {},
   "outputs": [],
   "source": [
    "latitude = -6.83084\n",
    "longitude =  -35.247\n",
    "TOMORROW_API_KEY = 'YqgpxXmg3sAg3p71K3OR4YJPNd7qfPdO'\n",
    "url = f\"https://api.tomorrow.io/v4/weather/realtime?location={latitude},{longitude}&apikey={TOMORROW_API_KEY}\""
   ]
  },
  {
   "cell_type": "code",
   "execution_count": 4,
   "id": "8215737e-24f6-48ed-96ba-43925c344904",
   "metadata": {},
   "outputs": [
    {
     "name": "stdout",
     "output_type": "stream",
     "text": [
      "{\n",
      "    \"data\": {\n",
      "        \"time\": \"2024-08-13T18:15:00Z\",\n",
      "        \"values\": {\n",
      "            \"cloudBase\": 0.88,\n",
      "            \"cloudCeiling\": null,\n",
      "            \"cloudCover\": 22,\n",
      "            \"dewPoint\": 20.5,\n",
      "            \"freezingRainIntensity\": 0,\n",
      "            \"humidity\": 66,\n",
      "            \"precipitationProbability\": 0,\n",
      "            \"pressureSurfaceLevel\": 1004.82,\n",
      "            \"rainIntensity\": 0,\n",
      "            \"sleetIntensity\": 0,\n",
      "            \"snowIntensity\": 0,\n",
      "            \"temperature\": 27.31,\n",
      "            \"temperatureApparent\": 29.01,\n",
      "            \"uvHealthConcern\": 0,\n",
      "            \"uvIndex\": 1,\n",
      "            \"visibility\": 16,\n",
      "            \"weatherCode\": 1100,\n",
      "            \"windDirection\": 110.19,\n",
      "            \"windGust\": 7.38,\n",
      "            \"windSpeed\": 5.5\n",
      "        }\n",
      "    },\n",
      "    \"location\": {\n",
      "        \"lat\": -6.83084,\n",
      "        \"lon\": -35.247\n",
      "    }\n",
      "}\n"
     ]
    }
   ],
   "source": [
    "headers = {\"accept\": \"application/json\"}\n",
    "response = requests.get(url, headers=headers)\n",
    "\n",
    "if response.status_code == 200:\n",
    "    data = response.json()\n",
    "    print(json.dumps(data, indent=4))\n",
    "else:\n",
    "    print(f'Erro na requisição: {response.status_code}, mensagem: {response.json().get(\"message\", \"\")}')"
   ]
  }
 ],
 "metadata": {
  "kernelspec": {
   "display_name": "Python 3 (ipykernel)",
   "language": "python",
   "name": "python3"
  },
  "language_info": {
   "codemirror_mode": {
    "name": "ipython",
    "version": 3
   },
   "file_extension": ".py",
   "mimetype": "text/x-python",
   "name": "python",
   "nbconvert_exporter": "python",
   "pygments_lexer": "ipython3",
   "version": "3.12.2"
  }
 },
 "nbformat": 4,
 "nbformat_minor": 5
}
